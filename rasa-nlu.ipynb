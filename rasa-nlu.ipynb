{
 "cells": [
  {
   "cell_type": "code",
   "execution_count": 4,
   "metadata": {},
   "outputs": [],
   "source": [
    "from rasa_nlu.training_data import load_data\n",
    "from rasa_nlu.model import Trainer\n",
    "from rasa_nlu import config\n",
    "from rasa_nlu.model import Interpreter"
   ]
  },
  {
   "cell_type": "code",
   "execution_count": 15,
   "metadata": {},
   "outputs": [],
   "source": [
    "def train_horoscopebot(data_json,config_file,model_dir):\n",
    "    training_data=load_data(data_json)\n",
    "    trainer=Trainer(config.load(config_file))\n",
    "    trainer.train(training_data)\n",
    "    model_directory=trainer.persist(model_dir,fixed_model_name='horoscopebot')\n",
    "    "
   ]
  },
  {
   "cell_type": "code",
   "execution_count": 16,
   "metadata": {},
   "outputs": [],
   "source": [
    "def predicct_intent(text):\n",
    "    intrepreter=Interpreter.load('./models/nlu/default/horoscopebot')\n",
    "    print(intrepreter.parse(text))"
   ]
  },
  {
   "cell_type": "markdown",
   "metadata": {},
   "source": [
    "Imports all libraries needed from rasa_nlu package\n",
    "->In the first section we defined 2 functions:\n",
    "->first is the train_horoscope where it trains the model given the data,config_file and model directory(place to store models)\n",
    "->predict_intent method uses the Interpreter model from rasa_nlu to load the pre-trained model files and gives the user the ability to predict any text examples.\n"
   ]
  },
  {
   "cell_type": "code",
   "execution_count": 17,
   "metadata": {},
   "outputs": [
    {
     "name": "stderr",
     "output_type": "stream",
     "text": [
      "Epochs: 100%|██████████| 300/300 [00:04<00:00, 60.80it/s, loss=0.068, acc=1.000] \n"
     ]
    }
   ],
   "source": [
    "train_horoscopebot('./data/data.json','config.json', './models/nlu')"
   ]
  },
  {
   "cell_type": "code",
   "execution_count": 19,
   "metadata": {},
   "outputs": [
    {
     "name": "stdout",
     "output_type": "stream",
     "text": [
      "INFO:tensorflow:Restoring parameters from ./models/nlu/default/horoscopebot\\intent_classifier_tensorflow_embedding.ckpt\n",
      "{'entities': [], 'intent': {'confidence': 0.960843563079834, 'name': 'get_horoscope'}, 'intent_ranking': [{'confidence': 0.960843563079834, 'name': 'get_horoscope'}, {'confidence': 0.06030754745006561, 'name': 'greeting'}, {'confidence': 0.0, 'name': 'subscription'}, {'confidence': 0.0, 'name': 'dob_intent'}], 'text': 'I am looking for my horoscope for today. I am wondering if you can tell me that.'}\n"
     ]
    }
   ],
   "source": [
    "predicct_intent(\"I am looking for my horoscope for today. I am wondering if you can tell me that.\")"
   ]
  },
  {
   "cell_type": "code",
   "execution_count": 25,
   "metadata": {},
   "outputs": [
    {
     "name": "stdout",
     "output_type": "stream",
     "text": [
      "INFO:tensorflow:Restoring parameters from ./models/nlu/default/horoscopebot\\intent_classifier_tensorflow_embedding.ckpt\n",
      "{'entities': [{'value': 'subscribe', 'start': 7, 'entity': 'subscribe', 'confidence': 0.7489696803457749, 'end': 16, 'extractor': 'ner_crf'}], 'intent': {'confidence': 0.9780083894729614, 'name': 'subscription'}, 'intent_ranking': [{'confidence': 0.9780083894729614, 'name': 'subscription'}, {'confidence': 0.0, 'name': 'dob_intent'}, {'confidence': 0.0, 'name': 'greeting'}, {'confidence': 0.0, 'name': 'get_horoscope'}], 'text': 'please subscribe me '}\n"
     ]
    }
   ],
   "source": [
    "predicct_intent(\"please subscribe me \")"
   ]
  },
  {
   "cell_type": "code",
   "execution_count": 26,
   "metadata": {},
   "outputs": [
    {
     "name": "stdout",
     "output_type": "stream",
     "text": [
      "INFO:tensorflow:Restoring parameters from ./models/nlu/default/horoscopebot\\intent_classifier_tensorflow_embedding.ckpt\n",
      "{'entities': [{'value': 'Scorpio', 'start': 26, 'entity': 'horoscope_sign', 'confidence': 0.8195009508566886, 'end': 33, 'extractor': 'ner_crf'}], 'intent': {'confidence': 0.9649865031242371, 'name': 'get_horoscope'}, 'intent_ranking': [{'confidence': 0.9649865031242371, 'name': 'get_horoscope'}, {'confidence': 0.0, 'name': 'greeting'}, {'confidence': 0.0, 'name': 'subscription'}, {'confidence': 0.0, 'name': 'dob_intent'}], 'text': 'What is the horoscope for Scorpio today?'}\n"
     ]
    }
   ],
   "source": [
    "predicct_intent(\"What is the horoscope for Scorpio today?\")"
   ]
  },
  {
   "cell_type": "code",
   "execution_count": 27,
   "metadata": {},
   "outputs": [
    {
     "name": "stdout",
     "output_type": "stream",
     "text": [
      "INFO:tensorflow:Restoring parameters from ./models/nlu/default/horoscopebot\\intent_classifier_tensorflow_embedding.ckpt\n",
      "{'entities': [], 'intent': {'confidence': 0.9679638147354126, 'name': 'greeting'}, 'intent_ranking': [{'confidence': 0.9679638147354126, 'name': 'greeting'}, {'confidence': 0.18235085904598236, 'name': 'get_horoscope'}, {'confidence': 0.0, 'name': 'subscription'}, {'confidence': 0.0, 'name': 'dob_intent'}], 'text': 'Hi good morning'}\n"
     ]
    }
   ],
   "source": [
    "predicct_intent(\"Hi good morning\")"
   ]
  },
  {
   "cell_type": "code",
   "execution_count": null,
   "metadata": {},
   "outputs": [],
   "source": []
  }
 ],
 "metadata": {
  "kernelspec": {
   "display_name": "Python 3",
   "language": "python",
   "name": "python3"
  },
  "language_info": {
   "codemirror_mode": {
    "name": "ipython",
    "version": 3
   },
   "file_extension": ".py",
   "mimetype": "text/x-python",
   "name": "python",
   "nbconvert_exporter": "python",
   "pygments_lexer": "ipython3",
   "version": "3.5.5"
  }
 },
 "nbformat": 4,
 "nbformat_minor": 2
}
