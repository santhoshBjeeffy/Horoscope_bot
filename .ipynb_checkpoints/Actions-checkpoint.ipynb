{
 "cells": [
  {
   "cell_type": "code",
   "execution_count": 1,
   "metadata": {},
   "outputs": [],
   "source": [
    "from __future__ import absolute_import\n",
    "from __future__ import division\n",
    "from __future__ import print_function\n",
    "from __future__ import unicode_literals\n",
    "import requests\n",
    "\n",
    "from rasa_core_sdk import Action\n",
    "from rasa_core_sdk.events import SlotSet"
   ]
  },
  {
   "cell_type": "code",
   "execution_count": 2,
   "metadata": {},
   "outputs": [
    {
     "ename": "SyntaxError",
     "evalue": "invalid syntax (<ipython-input-2-e53de431099e>, line 9)",
     "output_type": "error",
     "traceback": [
      "\u001b[1;36m  File \u001b[1;32m\"<ipython-input-2-e53de431099e>\"\u001b[1;36m, line \u001b[1;32m9\u001b[0m\n\u001b[1;33m    base_url=httpp://horoscope-api.herokuapp.com/horoscope/{day}/{sign}\u001b[0m\n\u001b[1;37m                  ^\u001b[0m\n\u001b[1;31mSyntaxError\u001b[0m\u001b[1;31m:\u001b[0m invalid syntax\n"
     ]
    }
   ],
   "source": [
    "class GetTodayHoroscope(Action):\n",
    "    \n",
    "    def name(self):\n",
    "        return \"get_todays_horoscope\"\n",
    "    \n",
    "    def run(self,dispatcher,tracker,domain):\n",
    "        #type:(Dispatcher,dialoguestateTracker,domain)-> list[Events]\n",
    "        user_horoscope_sign=tracker.get_slot('horoscope_Sign')\n",
    "        base_url=http://horoscope-api.herokuapp.com/horoscope/{day}/{sign}\n",
    "        url=base_url.format(**{'day':\"today\",'sign':user_horoscope_sign})\n",
    "        \n",
    "        #http://horoscope-api.herokuapp.com/horoscope/today/capricorn\n",
    "        res=requests.get(url)\n",
    "        todays_horoscope=res.join()['horoscope']\n",
    "        response=\"your today's horoscope:\\n{}\".format(todays_horoscope)\n",
    "        \n",
    "        dispatcher.utter_message(response)\n",
    "        return [SlotSet(\"horoscope_sign\",user_horoscope_sign)]"
   ]
  },
  {
   "cell_type": "code",
   "execution_count": null,
   "metadata": {},
   "outputs": [],
   "source": []
  }
 ],
 "metadata": {
  "kernelspec": {
   "display_name": "Python 3",
   "language": "python",
   "name": "python3"
  },
  "language_info": {
   "codemirror_mode": {
    "name": "ipython",
    "version": 3
   },
   "file_extension": ".py",
   "mimetype": "text/x-python",
   "name": "python",
   "nbconvert_exporter": "python",
   "pygments_lexer": "ipython3",
   "version": "3.5.5"
  }
 },
 "nbformat": 4,
 "nbformat_minor": 2
}
