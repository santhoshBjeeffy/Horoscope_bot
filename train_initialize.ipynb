{
 "cells": [
  {
   "cell_type": "code",
   "execution_count": 42,
   "metadata": {},
   "outputs": [],
   "source": [
    "#for interactive learning\n",
    "\n",
    "from __future__ import absolute_import\n",
    "from __future__ import division\n",
    "from __future__ import print_function\n",
    "from __future__ import unicode_literals"
   ]
  },
  {
   "cell_type": "code",
   "execution_count": 43,
   "metadata": {},
   "outputs": [],
   "source": [
    "from rasa_core import utils\n",
    "from rasa_core.agent import Agent\n",
    "from rasa_core.policies.keras_policy import KerasPolicy\n",
    "from rasa_core.policies.memoization import MemoizationPolicy\n",
    "from rasa_core.policies.sklearn_policy import SklearnPolicy"
   ]
  },
  {
   "cell_type": "code",
   "execution_count": 44,
   "metadata": {},
   "outputs": [
    {
     "name": "stderr",
     "output_type": "stream",
     "text": [
      "2019-07-13 16:34:20 DEBUG    rasa_core.training.generator  - Generated trackers will be deduplicated based on their unique last 5 states.\n",
      "2019-07-13 16:34:20 DEBUG    rasa_core.training.generator  - Number of augmentation rounds is 3\n",
      "2019-07-13 16:34:20 DEBUG    rasa_core.training.generator  - Starting data generation round 0 ... (with 1 trackers)\n",
      "Processed Story Blocks: 100%|██████████| 5/5 [00:00<00:00, 56.67it/s, # trackers=1]\n",
      "2019-07-13 16:34:20 DEBUG    rasa_core.training.generator  - Finished phase (5 training samples found).\n",
      "2019-07-13 16:34:20 DEBUG    rasa_core.training.generator  - Data generation rounds finished.\n",
      "2019-07-13 16:34:20 DEBUG    rasa_core.training.generator  - Found 0 unused checkpoints\n",
      "2019-07-13 16:34:21 DEBUG    rasa_core.training.generator  - Starting augmentation round 0 ... (with 5 trackers)\n",
      "Processed Story Blocks: 100%|██████████| 5/5 [00:00<00:00, 34.87it/s, # trackers=4]\n",
      "2019-07-13 16:34:21 DEBUG    rasa_core.training.generator  - Finished phase (26 training samples found).\n",
      "2019-07-13 16:34:21 DEBUG    rasa_core.training.generator  - Starting augmentation round 1 ... (with 20 trackers)\n",
      "Processed Story Blocks: 100%|██████████| 5/5 [00:00<00:00, 32.59it/s, # trackers=11]\n",
      "2019-07-13 16:34:21 DEBUG    rasa_core.training.generator  - Finished phase (74 training samples found).\n",
      "2019-07-13 16:34:21 DEBUG    rasa_core.training.generator  - Starting augmentation round 2 ... (with 20 trackers)\n",
      "Processed Story Blocks: 100%|██████████| 5/5 [00:00<00:00, 35.62it/s, # trackers=9]\n",
      "2019-07-13 16:34:22 DEBUG    rasa_core.training.generator  - Finished phase (119 training samples found).\n",
      "2019-07-13 16:34:22 DEBUG    rasa_core.training.generator  - Found 119 training trackers.\n",
      "2019-07-13 16:34:22 DEBUG    rasa_core.agent  - Agent trainer got kwargs: {'augmentation_factor': 50, 'validation_split': 0.2, 'epochs': 50}\n",
      "2019-07-13 16:34:22 INFO     rasa_core.featurizers  - Creating states and action examples from collected trackers (by MaxHistoryTrackerFeaturizer(SingleStateFeaturizer))...\n",
      "Processed trackers: 100%|██████████| 119/119 [00:11<00:00, 12.26it/s, # actions=93]\n",
      "2019-07-13 16:34:33 INFO     rasa_core.featurizers  - Created 93 action examples.\n",
      "Processed actions: 93it [00:00, 218.24it/s, # examples=93]\n",
      "2019-07-13 16:34:33 INFO     rasa_core.policies.memoization  - Memorized 93 unique action examples.\n",
      "2019-07-13 16:34:33 INFO     rasa_core.featurizers  - Creating states and action examples from collected trackers (by MaxHistoryTrackerFeaturizer(BinarySingleStateFeaturizer))...\n",
      "Processed trackers: 100%|██████████| 119/119 [00:09<00:00, 13.17it/s, # actions=93]\n",
      "2019-07-13 16:34:43 INFO     rasa_core.featurizers  - Created 93 action examples.\n"
     ]
    },
    {
     "name": "stdout",
     "output_type": "stream",
     "text": [
      "_________________________________________________________________\n",
      "Layer (type)                 Output Shape              Param #   \n",
      "=================================================================\n",
      "masking (Masking)            (None, 5, 22)             0         \n",
      "_________________________________________________________________\n",
      "lstm (LSTM)                  (None, 32)                7040      \n",
      "_________________________________________________________________\n",
      "dense (Dense)                (None, 9)                 297       \n",
      "_________________________________________________________________\n",
      "activation (Activation)      (None, 9)                 0         \n",
      "=================================================================\n",
      "Total params: 7,337\n",
      "Trainable params: 7,337\n",
      "Non-trainable params: 0\n",
      "_________________________________________________________________\n"
     ]
    },
    {
     "name": "stderr",
     "output_type": "stream",
     "text": [
      "2019-07-13 16:34:44 DEBUG    rasa_core.policies.keras_policy  - None\n",
      "2019-07-13 16:34:44 INFO     rasa_core.policies.keras_policy  - Fitting model with 93 total samples and a validation split of 0.2\n",
      "2019-07-13 16:34:44 DEBUG    rasa_core.policies.policy  - Parameters ignored by `model.fit(...)`: {'augmentation_factor': 50}\n"
     ]
    },
    {
     "name": "stdout",
     "output_type": "stream",
     "text": [
      "Train on 74 samples, validate on 19 samples\n",
      "Epoch 1/50\n",
      "74/74 [==============================] - ETA: 2s - loss: 2.2173 - acc: 0.218 - 3s 35ms/step - loss: 2.1984 - acc: 0.2027 - val_loss: 2.1363 - val_acc: 0.0526\n",
      "Epoch 2/50\n",
      "74/74 [==============================] - ETA: 0s - loss: 2.1476 - acc: 0.218 - ETA: 0s - loss: 2.1400 - acc: 0.281 - 0s 2ms/step - loss: 2.1386 - acc: 0.2568 - val_loss: 2.0721 - val_acc: 0.2105\n",
      "Epoch 3/50\n",
      "74/74 [==============================] - ETA: 0s - loss: 2.1176 - acc: 0.250 - ETA: 0s - loss: 2.1112 - acc: 0.234 - 0s 2ms/step - loss: 2.1094 - acc: 0.2432 - val_loss: 2.0162 - val_acc: 0.4737\n",
      "Epoch 4/50\n",
      "74/74 [==============================] - ETA: 0s - loss: 2.1111 - acc: 0.218 - ETA: 0s - loss: 2.0580 - acc: 0.281 - 0s 2ms/step - loss: 2.0720 - acc: 0.2703 - val_loss: 1.9631 - val_acc: 0.5789\n",
      "Epoch 5/50\n",
      "74/74 [==============================] - ETA: 0s - loss: 2.0156 - acc: 0.250 - 0s 1ms/step - loss: 2.0360 - acc: 0.2432 - val_loss: 1.9110 - val_acc: 0.6316\n",
      "Epoch 6/50\n",
      "74/74 [==============================] - ETA: 0s - loss: 2.0037 - acc: 0.312 - ETA: 0s - loss: 2.0060 - acc: 0.265 - 0s 2ms/step - loss: 2.0026 - acc: 0.2703 - val_loss: 1.8516 - val_acc: 0.6316\n",
      "Epoch 7/50\n",
      "74/74 [==============================] - ETA: 0s - loss: 1.9855 - acc: 0.312 - ETA: 0s - loss: 1.9953 - acc: 0.312 - 0s 2ms/step - loss: 1.9864 - acc: 0.3243 - val_loss: 1.7894 - val_acc: 0.6316\n",
      "Epoch 8/50\n",
      "74/74 [==============================] - ETA: 0s - loss: 1.9839 - acc: 0.218 - ETA: 0s - loss: 1.9169 - acc: 0.343 - 0s 2ms/step - loss: 1.9464 - acc: 0.3243 - val_loss: 1.7514 - val_acc: 0.6316\n",
      "Epoch 9/50\n",
      "74/74 [==============================] - ETA: 0s - loss: 1.9093 - acc: 0.281 - 0s 894us/step - loss: 1.9330 - acc: 0.3243 - val_loss: 1.7055 - val_acc: 0.6316\n",
      "Epoch 10/50\n",
      "74/74 [==============================] - ETA: 0s - loss: 1.8485 - acc: 0.375 - ETA: 0s - loss: 1.8583 - acc: 0.359 - 0s 2ms/step - loss: 1.8832 - acc: 0.3243 - val_loss: 1.6786 - val_acc: 0.6316\n",
      "Epoch 11/50\n",
      "74/74 [==============================] - ETA: 0s - loss: 1.8858 - acc: 0.281 - 0s 962us/step - loss: 1.8759 - acc: 0.3243 - val_loss: 1.6325 - val_acc: 0.6316\n",
      "Epoch 12/50\n",
      "74/74 [==============================] - ETA: 0s - loss: 1.8812 - acc: 0.281 - 0s 894us/step - loss: 1.8564 - acc: 0.3243 - val_loss: 1.5961 - val_acc: 0.6316\n",
      "Epoch 13/50\n",
      "74/74 [==============================] - ETA: 0s - loss: 1.7413 - acc: 0.406 - 0s 759us/step - loss: 1.8339 - acc: 0.3243 - val_loss: 1.5665 - val_acc: 0.6316\n",
      "Epoch 14/50\n",
      "74/74 [==============================] - ETA: 0s - loss: 1.9191 - acc: 0.250 - 0s 623us/step - loss: 1.8206 - acc: 0.3243 - val_loss: 1.5207 - val_acc: 0.6316\n",
      "Epoch 15/50\n",
      "74/74 [==============================] - ETA: 0s - loss: 1.7933 - acc: 0.312 - 0s 705us/step - loss: 1.8180 - acc: 0.3243 - val_loss: 1.5002 - val_acc: 0.6316\n",
      "Epoch 16/50\n",
      "74/74 [==============================] - ETA: 0s - loss: 1.7827 - acc: 0.343 - 0s 610us/step - loss: 1.7903 - acc: 0.3243 - val_loss: 1.4683 - val_acc: 0.6316\n",
      "Epoch 17/50\n",
      "74/74 [==============================] - ETA: 0s - loss: 1.7049 - acc: 0.406 - 0s 691us/step - loss: 1.7688 - acc: 0.3243 - val_loss: 1.4520 - val_acc: 0.6316\n",
      "Epoch 18/50\n",
      "74/74 [==============================] - ETA: 0s - loss: 1.7541 - acc: 0.343 - 0s 772us/step - loss: 1.7556 - acc: 0.3243 - val_loss: 1.4235 - val_acc: 0.6316\n",
      "Epoch 19/50\n",
      "74/74 [==============================] - ETA: 0s - loss: 1.8347 - acc: 0.250 - 0s 501us/step - loss: 1.7373 - acc: 0.3243 - val_loss: 1.3937 - val_acc: 0.6316\n",
      "Epoch 20/50\n",
      "74/74 [==============================] - ETA: 0s - loss: 1.8990 - acc: 0.187 - 0s 691us/step - loss: 1.7308 - acc: 0.3243 - val_loss: 1.3885 - val_acc: 0.6316\n",
      "Epoch 21/50\n",
      "74/74 [==============================] - ETA: 0s - loss: 1.8184 - acc: 0.281 - 0s 488us/step - loss: 1.7376 - acc: 0.3243 - val_loss: 1.3775 - val_acc: 0.6316\n",
      "Epoch 22/50\n",
      "74/74 [==============================] - ETA: 0s - loss: 1.6386 - acc: 0.375 - 0s 528us/step - loss: 1.6983 - acc: 0.3243 - val_loss: 1.3525 - val_acc: 0.6316\n",
      "Epoch 23/50\n",
      "74/74 [==============================] - ETA: 0s - loss: 1.7719 - acc: 0.281 - 0s 528us/step - loss: 1.6797 - acc: 0.3243 - val_loss: 1.3356 - val_acc: 0.6316\n",
      "Epoch 24/50\n",
      "74/74 [==============================] - ETA: 0s - loss: 1.7752 - acc: 0.187 - 0s 732us/step - loss: 1.7019 - acc: 0.3243 - val_loss: 1.3325 - val_acc: 0.6316\n",
      "Epoch 25/50\n",
      "74/74 [==============================] - ETA: 0s - loss: 1.6909 - acc: 0.312 - 0s 461us/step - loss: 1.6630 - acc: 0.3243 - val_loss: 1.3309 - val_acc: 0.6316\n",
      "Epoch 26/50\n",
      "74/74 [==============================] - ETA: 0s - loss: 1.5948 - acc: 0.437 - 0s 515us/step - loss: 1.6546 - acc: 0.3243 - val_loss: 1.3367 - val_acc: 0.6316\n",
      "Epoch 27/50\n",
      "74/74 [==============================] - ETA: 0s - loss: 1.6186 - acc: 0.343 - 0s 583us/step - loss: 1.6515 - acc: 0.3243 - val_loss: 1.3120 - val_acc: 0.6316\n",
      "Epoch 28/50\n",
      "74/74 [==============================] - ETA: 0s - loss: 1.5779 - acc: 0.375 - 0s 434us/step - loss: 1.6277 - acc: 0.3243 - val_loss: 1.2845 - val_acc: 0.6316\n",
      "Epoch 29/50\n",
      "74/74 [==============================] - ETA: 0s - loss: 1.7081 - acc: 0.187 - 0s 528us/step - loss: 1.6178 - acc: 0.3243 - val_loss: 1.2610 - val_acc: 0.6316\n",
      "Epoch 30/50\n",
      "74/74 [==============================] - ETA: 0s - loss: 1.6478 - acc: 0.250 - 0s 556us/step - loss: 1.6222 - acc: 0.3243 - val_loss: 1.2357 - val_acc: 0.6316\n",
      "Epoch 31/50\n",
      "74/74 [==============================] - ETA: 0s - loss: 1.6309 - acc: 0.437 - 0s 434us/step - loss: 1.6243 - acc: 0.3243 - val_loss: 1.2236 - val_acc: 0.6316\n",
      "Epoch 32/50\n",
      "74/74 [==============================] - ETA: 0s - loss: 1.6322 - acc: 0.281 - 0s 569us/step - loss: 1.6053 - acc: 0.3243 - val_loss: 1.2308 - val_acc: 0.6316\n",
      "Epoch 33/50\n",
      "74/74 [==============================] - ETA: 0s - loss: 1.5327 - acc: 0.375 - 0s 691us/step - loss: 1.5614 - acc: 0.3243 - val_loss: 1.2435 - val_acc: 0.6316\n",
      "Epoch 34/50\n",
      "74/74 [==============================] - ETA: 0s - loss: 1.6213 - acc: 0.187 - 0s 406us/step - loss: 1.5682 - acc: 0.3243 - val_loss: 1.2477 - val_acc: 0.6316\n",
      "Epoch 35/50\n",
      "74/74 [==============================] - ETA: 0s - loss: 1.5744 - acc: 0.375 - 0s 434us/step - loss: 1.5907 - acc: 0.3243 - val_loss: 1.2250 - val_acc: 0.6316\n",
      "Epoch 36/50\n",
      "74/74 [==============================] - ETA: 0s - loss: 1.4425 - acc: 0.343 - 0s 393us/step - loss: 1.5607 - acc: 0.3243 - val_loss: 1.2338 - val_acc: 0.6316\n",
      "Epoch 37/50\n",
      "74/74 [==============================] - ETA: 0s - loss: 1.6349 - acc: 0.250 - 0s 583us/step - loss: 1.5576 - acc: 0.3784 - val_loss: 1.2158 - val_acc: 0.6316\n",
      "Epoch 38/50\n",
      "74/74 [==============================] - ETA: 0s - loss: 1.5797 - acc: 0.312 - 0s 528us/step - loss: 1.5470 - acc: 0.3784 - val_loss: 1.2170 - val_acc: 0.6316\n",
      "Epoch 39/50\n",
      "74/74 [==============================] - ETA: 0s - loss: 1.4313 - acc: 0.437 - 0s 393us/step - loss: 1.5219 - acc: 0.4189 - val_loss: 1.2346 - val_acc: 0.6316\n",
      "Epoch 40/50\n",
      "74/74 [==============================] - ETA: 0s - loss: 1.4315 - acc: 0.468 - 0s 461us/step - loss: 1.4957 - acc: 0.4054 - val_loss: 1.2390 - val_acc: 0.6316\n",
      "Epoch 41/50\n",
      "74/74 [==============================] - ETA: 0s - loss: 1.4727 - acc: 0.468 - 0s 379us/step - loss: 1.4891 - acc: 0.3919 - val_loss: 1.2251 - val_acc: 0.6316\n",
      "Epoch 42/50\n",
      "74/74 [==============================] - ETA: 0s - loss: 1.4902 - acc: 0.531 - 0s 406us/step - loss: 1.4819 - acc: 0.4595 - val_loss: 1.2354 - val_acc: 0.7368\n",
      "Epoch 43/50\n",
      "74/74 [==============================] - ETA: 0s - loss: 1.4460 - acc: 0.593 - 0s 393us/step - loss: 1.4795 - acc: 0.5000 - val_loss: 1.2236 - val_acc: 0.6316\n",
      "Epoch 44/50\n",
      "74/74 [==============================] - ETA: 0s - loss: 1.4706 - acc: 0.468 - 0s 352us/step - loss: 1.4616 - acc: 0.4730 - val_loss: 1.2015 - val_acc: 0.6842\n",
      "Epoch 45/50\n",
      "74/74 [==============================] - ETA: 0s - loss: 1.4700 - acc: 0.437 - 0s 379us/step - loss: 1.4310 - acc: 0.4595 - val_loss: 1.1889 - val_acc: 0.7368\n",
      "Epoch 46/50\n",
      "74/74 [==============================] - ETA: 0s - loss: 1.3358 - acc: 0.531 - 0s 352us/step - loss: 1.4298 - acc: 0.5000 - val_loss: 1.1622 - val_acc: 0.6316\n",
      "Epoch 47/50\n"
     ]
    },
    {
     "name": "stdout",
     "output_type": "stream",
     "text": [
      "74/74 [==============================] - ETA: 0s - loss: 1.3817 - acc: 0.468 - 0s 339us/step - loss: 1.4202 - acc: 0.4865 - val_loss: 1.1632 - val_acc: 0.6316\n",
      "Epoch 48/50\n",
      "74/74 [==============================] - ETA: 0s - loss: 1.4691 - acc: 0.500 - 0s 610us/step - loss: 1.4068 - acc: 0.4459 - val_loss: 1.1755 - val_acc: 0.6316\n",
      "Epoch 49/50\n",
      "74/74 [==============================] - ETA: 0s - loss: 1.3725 - acc: 0.500 - 0s 393us/step - loss: 1.4013 - acc: 0.4865 - val_loss: 1.1745 - val_acc: 0.7368\n",
      "Epoch 50/50\n",
      "74/74 [==============================] - ETA: 0s - loss: 1.3238 - acc: 0.656 - 0s 379us/step - loss: 1.3822 - acc: 0.5405 - val_loss: 1.1767 - val_acc: 0.7368\n"
     ]
    },
    {
     "name": "stderr",
     "output_type": "stream",
     "text": [
      "2019-07-13 16:34:53 INFO     rasa_core.policies.keras_policy  - Done fitting keras policy model\n",
      "2019-07-13 16:34:53 INFO     rasa_core.agent  - Model directory ./models/dialogue exists and contains old model files. All files will be overwritten.\n",
      "2019-07-13 16:34:53 INFO     rasa_core.agent  - Persisted model to 'C:\\Users\\santhob\\horscope\\models\\dialogue'\n"
     ]
    }
   ],
   "source": [
    "if __name__=='__main__':\n",
    "    utils.configure_colored_logging(loglevel=\"DEBUG\")\n",
    "    training_data_file='./data/stories.md'\n",
    "    models_path='./models/dialogue'\n",
    "    agent=Agent(\"horoscope_domain.yml\",policies=[MemoizationPolicy(),KerasPolicy()])\n",
    "    \n",
    "    training_data=agent.load_data(training_data_file)\n",
    "    agent.train(training_data,augmentation_factor=50,epochs=50,validation_split=0.2)\n",
    "    agent.persist(models_path)"
   ]
  },
  {
   "cell_type": "code",
   "execution_count": null,
   "metadata": {},
   "outputs": [],
   "source": []
  },
  {
   "cell_type": "code",
   "execution_count": null,
   "metadata": {},
   "outputs": [],
   "source": []
  },
  {
   "cell_type": "code",
   "execution_count": null,
   "metadata": {},
   "outputs": [],
   "source": []
  }
 ],
 "metadata": {
  "kernelspec": {
   "display_name": "Python 3",
   "language": "python",
   "name": "python3"
  },
  "language_info": {
   "codemirror_mode": {
    "name": "ipython",
    "version": 3
   },
   "file_extension": ".py",
   "mimetype": "text/x-python",
   "name": "python",
   "nbconvert_exporter": "python",
   "pygments_lexer": "ipython3",
   "version": "3.5.5"
  }
 },
 "nbformat": 4,
 "nbformat_minor": 2
}
