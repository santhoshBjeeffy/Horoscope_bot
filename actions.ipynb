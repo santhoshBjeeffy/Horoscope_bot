{
 "cells": [
  {
   "cell_type": "code",
   "execution_count": 14,
   "metadata": {},
   "outputs": [],
   "source": [
    "from __future__ import absolute_import\n",
    "from __future__ import division\n",
    "from __future__ import print_function\n",
    "from __future__ import unicode_literals\n",
    "import requests\n",
    "\n",
    "from rasa_core_sdk import Action\n",
    "from rasa_core_sdk.events import SlotSet"
   ]
  },
  {
   "cell_type": "code",
   "execution_count": 15,
   "metadata": {},
   "outputs": [],
   "source": [
    "class GetTodayHoroscope(Action):\n",
    "    \n",
    "    def name(self):\n",
    "        return \"get_todays_horoscope\"\n",
    "    \n",
    "    def run(self,dispatcher,tracker,domain):\n",
    "        #type:(Dispatcher,dialoguestateTracker,domain)-> list[Events]\n",
    "        user_horoscope_sign=tracker.get_slot('horoscope_sign')\n",
    "        base_url= \"http://horoscope-api.herokuapp.com/horoscope/{day}/{sign}\"\n",
    "        url=base_url.format(**{'day':\"today\",'sign':user_horoscope_sign})\n",
    "        \n",
    "        #http://horoscope-api.herokuapp.com/horoscope/today/capricorn\n",
    "        res=requests.get(url)\n",
    "        todays_horoscope=res.join()['horoscope']\n",
    "        response=\"your today's horoscope:\\n{}\".format(todays_horoscope)\n",
    "        \n",
    "        dispatcher.utter_message(response)\n",
    "        return [SlotSet(\"horoscope_sign\",user_horoscope_sign)]"
   ]
  },
  {
   "cell_type": "code",
   "execution_count": 16,
   "metadata": {},
   "outputs": [],
   "source": [
    "class subscribeUser(Action):\n",
    "    def name(self):\n",
    "        return \"subscriber_user\"\n",
    "    \n",
    "    def run(self,dispatcher,tracker,domain):\n",
    "        if subscribe==\"True\":\n",
    "            response = \"you are subscribed\"\n",
    "        if subscribe==\"False\":\n",
    "            response==\"you are not subscribed\"\n",
    "            \n",
    "        dispatcher.utter_message(response)\n",
    "        return[SlotSet(\"subscribe\",subscribe)]"
   ]
  },
  {
   "cell_type": "code",
   "execution_count": null,
   "metadata": {},
   "outputs": [],
   "source": []
  }
 ],
 "metadata": {
  "kernelspec": {
   "display_name": "Python 3",
   "language": "python",
   "name": "python3"
  },
  "language_info": {
   "codemirror_mode": {
    "name": "ipython",
    "version": 3
   },
   "file_extension": ".py",
   "mimetype": "text/x-python",
   "name": "python",
   "nbconvert_exporter": "python",
   "pygments_lexer": "ipython3",
   "version": "3.5.5"
  }
 },
 "nbformat": 4,
 "nbformat_minor": 2
}
